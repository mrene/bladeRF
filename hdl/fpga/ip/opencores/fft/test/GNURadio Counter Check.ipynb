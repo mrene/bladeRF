{
 "metadata": {
  "name": "",
  "signature": "sha256:4fc18225ebf18b589edbf016b87f5e400ff74fceb6a49eec11f1598c34df0373"
 },
 "nbformat": 3,
 "nbformat_minor": 0,
 "worksheets": [
  {
   "cells": [
    {
     "cell_type": "code",
     "collapsed": false,
     "input": [
      "%matplotlib inline\n",
      "import itertools\n",
      "from scipy import signal\n",
      "from scipy.fftpack import fft \n",
      "import numpy\n",
      "import struct\n",
      "from pprint import pprint\n",
      "import numpy as np\n",
      "import matplotlib.pyplot as plt\n",
      "import scipy.signal\n",
      "from util import *\n",
      "import util\n",
      "reload(util)\n",
      "import math, cmath\n",
      "\n",
      "from IPython.display import set_matplotlib_formats\n",
      "set_matplotlib_formats('svg')\n"
     ],
     "language": "python",
     "metadata": {},
     "outputs": [],
     "prompt_number": 52
    },
    {
     "cell_type": "code",
     "collapsed": false,
     "input": [
      "def checkEm():\n",
      "    src = binaryfile('./data-counter.bin', samplesize=16)\n",
      "    src = (complex(round(x.real/1), round(x.imag/1)) for x in src)\n",
      "    last = (0,0)\n",
      "    x = 0\n",
      "    y = 256\n",
      "    bad = 0\n",
      "    last_discont = 0\n",
      "    \n",
      "    for i, data in enumerate(src):\n",
      "        ctr = complex(y, -y)\n",
      "    \n",
      "        x = data\n",
      "        if x != ctr:\n",
      "            print \"Discontinuity at: %d - %s %s: %d missing (%d since last)\" % (i, x, ctr, x.real - ctr.real, i - last_discont)\n",
      "            last_discont = i\n",
      "            bad += 1\n",
      "            if bad > 100:\n",
      "                return\n",
      "            \n",
      "            y = x.real\n",
      "        if y < 2047:\n",
      "            y += 1\n",
      "        else:\n",
      "            y = -2047\n",
      "        \n",
      "    print \"all good\"\n",
      "    \n",
      "checkEm()\n",
      "    "
     ],
     "language": "python",
     "metadata": {},
     "outputs": [
      {
       "output_type": "stream",
       "stream": "stdout",
       "text": [
        "Discontinuity at: 298450944 - (-462+462j) (-590+590j): 128 missing (298450944 since last)\n",
        "Discontinuity at: 300384256 - (522-522j) (10-10j): 512 missing (1933312 since last)"
       ]
      },
      {
       "output_type": "stream",
       "stream": "stdout",
       "text": [
        "\n",
        "Discontinuity at: 302252032 - (1490-1490j) (978-978j): 512 missing (1867776 since last)"
       ]
      },
      {
       "output_type": "stream",
       "stream": "stdout",
       "text": [
        "\n",
        "Discontinuity at: 304250880 - (-1477+1477j) (1978-1978j): -3455 missing (1998848 since last)"
       ]
      },
      {
       "output_type": "stream",
       "stream": "stdout",
       "text": [
        "\n",
        "Discontinuity at: 306085888 - (-645+645j) (-1029+1029j): 384 missing (1835008 since last)"
       ]
      },
      {
       "output_type": "stream",
       "stream": "stdout",
       "text": [
        "\n",
        "Discontinuity at: 307527680 - (219-219j) (-293+293j): 512 missing (1441792 since last)"
       ]
      },
      {
       "output_type": "stream",
       "stream": "stdout",
       "text": [
        "\n",
        "Discontinuity at: 308740096 - (643-643j) (515-515j): 128 missing (1212416 since last)"
       ]
      },
      {
       "output_type": "stream",
       "stream": "stdout",
       "text": [
        "\n",
        "Discontinuity at: 310083584 - (1227-1227j) (971-971j): 256 missing (1343488 since last)"
       ]
      },
      {
       "output_type": "stream",
       "stream": "stdout",
       "text": [
        "\n",
        "Discontinuity at: 310804480 - (1531-1531j) (1403-1403j): 128 missing (720896 since last)"
       ]
      },
      {
       "output_type": "stream",
       "stream": "stdout",
       "text": [
        "\n",
        "Discontinuity at: 311984128 - (-1892+1892j) (1819-1819j): -3711 missing (1179648 since last)"
       ]
      },
      {
       "output_type": "stream",
       "stream": "stdout",
       "text": [
        "\n",
        "Discontinuity at: 313262080 - (-1324+1324j) (-1580+1580j): 256 missing (1277952 since last)"
       ]
      },
      {
       "output_type": "stream",
       "stream": "stdout",
       "text": [
        "\n",
        "all good"
       ]
      },
      {
       "output_type": "stream",
       "stream": "stdout",
       "text": [
        "\n"
       ]
      }
     ],
     "prompt_number": 54
    },
    {
     "cell_type": "code",
     "collapsed": false,
     "input": [],
     "language": "python",
     "metadata": {},
     "outputs": [],
     "prompt_number": 14
    }
   ],
   "metadata": {}
  }
 ]
}